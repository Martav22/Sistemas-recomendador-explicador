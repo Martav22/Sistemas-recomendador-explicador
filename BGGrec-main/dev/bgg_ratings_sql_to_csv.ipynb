{
 "cells": [
  {
   "cell_type": "code",
   "execution_count": 20,
   "metadata": {},
   "outputs": [],
   "source": [
    "import pandas as pd\n",
    "import numpy as np\n",
    "import mysql.connector"
   ]
  },
  {
   "cell_type": "code",
   "execution_count": 21,
   "metadata": {},
   "outputs": [],
   "source": [
    "# Creamos la conexión con la base de datos\n",
    "conn = mysql.connector.connect(user='root', password='', host='localhost', database='bgg')"
   ]
  },
  {
   "cell_type": "code",
   "execution_count": 22,
   "metadata": {},
   "outputs": [],
   "source": [
    "# Obtenemos un dataframe con todos los datos de la tabla de juegos\n",
    "\n",
    "sql_query = \"SELECT * FROM ratings_10_with_types\"\n",
    "df = pd.read_sql_query(sql_query, conn)"
   ]
  },
  {
   "cell_type": "code",
   "execution_count": 23,
   "metadata": {},
   "outputs": [
    {
     "data": {
      "text/html": [
       "<div>\n",
       "<style scoped>\n",
       "    .dataframe tbody tr th:only-of-type {\n",
       "        vertical-align: middle;\n",
       "    }\n",
       "\n",
       "    .dataframe tbody tr th {\n",
       "        vertical-align: top;\n",
       "    }\n",
       "\n",
       "    .dataframe thead th {\n",
       "        text-align: right;\n",
       "    }\n",
       "</style>\n",
       "<table border=\"1\" class=\"dataframe\">\n",
       "  <thead>\n",
       "    <tr style=\"text-align: right;\">\n",
       "      <th></th>\n",
       "      <th>username</th>\n",
       "      <th>gameId</th>\n",
       "      <th>gameName</th>\n",
       "      <th>rating</th>\n",
       "      <th>date</th>\n",
       "      <th>status</th>\n",
       "      <th>comment</th>\n",
       "    </tr>\n",
       "  </thead>\n",
       "  <tbody>\n",
       "    <tr>\n",
       "      <th>0</th>\n",
       "      <td>-Morphling-</td>\n",
       "      <td>173346</td>\n",
       "      <td>7 Wonders Duel 1</td>\n",
       "      <td>8.0</td>\n",
       "      <td>Nov 2020</td>\n",
       "      <td>Owned</td>\n",
       "      <td>b''</td>\n",
       "    </tr>\n",
       "    <tr>\n",
       "      <th>1</th>\n",
       "      <td>-Morphling-</td>\n",
       "      <td>124742</td>\n",
       "      <td>Android: Netrunner 1</td>\n",
       "      <td>9.0</td>\n",
       "      <td>Nov 2020</td>\n",
       "      <td></td>\n",
       "      <td>b\"I have spent way more time watching other pe...</td>\n",
       "    </tr>\n",
       "    <tr>\n",
       "      <th>2</th>\n",
       "      <td>-Morphling-</td>\n",
       "      <td>205637</td>\n",
       "      <td>Arkham Horror: The Card Game 2</td>\n",
       "      <td>9.0</td>\n",
       "      <td>Nov 2020</td>\n",
       "      <td></td>\n",
       "      <td>b\"It's a testament to the rest of the game tha...</td>\n",
       "    </tr>\n",
       "    <tr>\n",
       "      <th>3</th>\n",
       "      <td>-Morphling-</td>\n",
       "      <td>230802</td>\n",
       "      <td>Azul 1</td>\n",
       "      <td>7.0</td>\n",
       "      <td>Nov 2020</td>\n",
       "      <td></td>\n",
       "      <td>b\"It's a solid game with good components, but ...</td>\n",
       "    </tr>\n",
       "    <tr>\n",
       "      <th>4</th>\n",
       "      <td>-Morphling-</td>\n",
       "      <td>760</td>\n",
       "      <td>Battle Line 2</td>\n",
       "      <td>7.0</td>\n",
       "      <td>Jun 2021</td>\n",
       "      <td>Owned</td>\n",
       "      <td>b''</td>\n",
       "    </tr>\n",
       "  </tbody>\n",
       "</table>\n",
       "</div>"
      ],
      "text/plain": [
       "      username  gameId                        gameName  rating      date  \\\n",
       "0  -Morphling-  173346                7 Wonders Duel 1     8.0  Nov 2020   \n",
       "1  -Morphling-  124742            Android: Netrunner 1     9.0  Nov 2020   \n",
       "2  -Morphling-  205637  Arkham Horror: The Card Game 2     9.0  Nov 2020   \n",
       "3  -Morphling-  230802                          Azul 1     7.0  Nov 2020   \n",
       "4  -Morphling-     760                   Battle Line 2     7.0  Jun 2021   \n",
       "\n",
       "  status                                            comment  \n",
       "0  Owned                                                b''  \n",
       "1         b\"I have spent way more time watching other pe...  \n",
       "2         b\"It's a testament to the rest of the game tha...  \n",
       "3         b\"It's a solid game with good components, but ...  \n",
       "4  Owned                                                b''  "
      ]
     },
     "execution_count": 23,
     "metadata": {},
     "output_type": "execute_result"
    }
   ],
   "source": [
    "df.head()"
   ]
  },
  {
   "cell_type": "code",
   "execution_count": 24,
   "metadata": {},
   "outputs": [
    {
     "data": {
      "text/plain": [
       "Index(['username', 'gameId', 'gameName', 'rating', 'date', 'status',\n",
       "       'comment'],\n",
       "      dtype='object')"
      ]
     },
     "execution_count": 24,
     "metadata": {},
     "output_type": "execute_result"
    }
   ],
   "source": [
    "df.columns"
   ]
  },
  {
   "cell_type": "markdown",
   "metadata": {},
   "source": [
    "# BoardGameGeek - Ratings\n",
    "\n",
    "El fichero `bgg_ratings.csv` contiene los valoraciones que han hecho los usuarios a los juegos del dataset de [BoardGameGeek](https://boardgamegeek.com/). Los atributos incluidos en este fichero son los siguientes:\n",
    "\n",
    "- `user_id`: Identifficador del usuario.\n",
    "- `item_id`: Identificador del juego.\n",
    "- `rating`: Valoración que ha hecho el usuario entre 1 y 10.\n",
    "- `timestamp`: Fecha en la que hizo la valoración.\n",
    "- `status`: Inclusión del estado del juego (por ejemplo si es el dueño del juego).\n"
   ]
  },
  {
   "cell_type": "code",
   "execution_count": 25,
   "metadata": {},
   "outputs": [],
   "source": [
    "# Definimos las columnas que queremos que se guarden en el csv\n",
    "bgg_ratings_cols = ['username', 'gameId',  'rating', 'date', 'status']"
   ]
  },
  {
   "cell_type": "code",
   "execution_count": 26,
   "metadata": {},
   "outputs": [],
   "source": [
    "bgg_ratings_df = df[bgg_ratings_cols]"
   ]
  },
  {
   "cell_type": "code",
   "execution_count": 27,
   "metadata": {},
   "outputs": [
    {
     "data": {
      "text/html": [
       "<div>\n",
       "<style scoped>\n",
       "    .dataframe tbody tr th:only-of-type {\n",
       "        vertical-align: middle;\n",
       "    }\n",
       "\n",
       "    .dataframe tbody tr th {\n",
       "        vertical-align: top;\n",
       "    }\n",
       "\n",
       "    .dataframe thead th {\n",
       "        text-align: right;\n",
       "    }\n",
       "</style>\n",
       "<table border=\"1\" class=\"dataframe\">\n",
       "  <thead>\n",
       "    <tr style=\"text-align: right;\">\n",
       "      <th></th>\n",
       "      <th>username</th>\n",
       "      <th>gameId</th>\n",
       "      <th>rating</th>\n",
       "      <th>date</th>\n",
       "      <th>status</th>\n",
       "    </tr>\n",
       "  </thead>\n",
       "  <tbody>\n",
       "    <tr>\n",
       "      <th>0</th>\n",
       "      <td>-Morphling-</td>\n",
       "      <td>173346</td>\n",
       "      <td>8.0</td>\n",
       "      <td>Nov 2020</td>\n",
       "      <td>Owned</td>\n",
       "    </tr>\n",
       "    <tr>\n",
       "      <th>1</th>\n",
       "      <td>-Morphling-</td>\n",
       "      <td>124742</td>\n",
       "      <td>9.0</td>\n",
       "      <td>Nov 2020</td>\n",
       "      <td></td>\n",
       "    </tr>\n",
       "    <tr>\n",
       "      <th>2</th>\n",
       "      <td>-Morphling-</td>\n",
       "      <td>205637</td>\n",
       "      <td>9.0</td>\n",
       "      <td>Nov 2020</td>\n",
       "      <td></td>\n",
       "    </tr>\n",
       "    <tr>\n",
       "      <th>3</th>\n",
       "      <td>-Morphling-</td>\n",
       "      <td>230802</td>\n",
       "      <td>7.0</td>\n",
       "      <td>Nov 2020</td>\n",
       "      <td></td>\n",
       "    </tr>\n",
       "    <tr>\n",
       "      <th>4</th>\n",
       "      <td>-Morphling-</td>\n",
       "      <td>760</td>\n",
       "      <td>7.0</td>\n",
       "      <td>Jun 2021</td>\n",
       "      <td>Owned</td>\n",
       "    </tr>\n",
       "    <tr>\n",
       "      <th>...</th>\n",
       "      <td>...</td>\n",
       "      <td>...</td>\n",
       "      <td>...</td>\n",
       "      <td>...</td>\n",
       "      <td>...</td>\n",
       "    </tr>\n",
       "    <tr>\n",
       "      <th>5241405</th>\n",
       "      <td>shantke</td>\n",
       "      <td>22093</td>\n",
       "      <td>10.0</td>\n",
       "      <td>Nov 2013</td>\n",
       "      <td>Owned</td>\n",
       "    </tr>\n",
       "    <tr>\n",
       "      <th>5241406</th>\n",
       "      <td>shantke</td>\n",
       "      <td>22093</td>\n",
       "      <td>10.0</td>\n",
       "      <td>Nov 2013</td>\n",
       "      <td>Owned</td>\n",
       "    </tr>\n",
       "    <tr>\n",
       "      <th>5241407</th>\n",
       "      <td>shantke</td>\n",
       "      <td>22093</td>\n",
       "      <td>10.0</td>\n",
       "      <td>Nov 2013</td>\n",
       "      <td>Owned</td>\n",
       "    </tr>\n",
       "    <tr>\n",
       "      <th>5241408</th>\n",
       "      <td>shantke</td>\n",
       "      <td>22093</td>\n",
       "      <td>10.0</td>\n",
       "      <td>Nov 2013</td>\n",
       "      <td>Owned</td>\n",
       "    </tr>\n",
       "    <tr>\n",
       "      <th>5241409</th>\n",
       "      <td>shantke</td>\n",
       "      <td>22093</td>\n",
       "      <td>10.0</td>\n",
       "      <td>Nov 2013</td>\n",
       "      <td>Owned</td>\n",
       "    </tr>\n",
       "  </tbody>\n",
       "</table>\n",
       "<p>5241410 rows × 5 columns</p>\n",
       "</div>"
      ],
      "text/plain": [
       "            username  gameId  rating      date status\n",
       "0        -Morphling-  173346     8.0  Nov 2020  Owned\n",
       "1        -Morphling-  124742     9.0  Nov 2020       \n",
       "2        -Morphling-  205637     9.0  Nov 2020       \n",
       "3        -Morphling-  230802     7.0  Nov 2020       \n",
       "4        -Morphling-     760     7.0  Jun 2021  Owned\n",
       "...              ...     ...     ...       ...    ...\n",
       "5241405      shantke   22093    10.0  Nov 2013  Owned\n",
       "5241406      shantke   22093    10.0  Nov 2013  Owned\n",
       "5241407      shantke   22093    10.0  Nov 2013  Owned\n",
       "5241408      shantke   22093    10.0  Nov 2013  Owned\n",
       "5241409      shantke   22093    10.0  Nov 2013  Owned\n",
       "\n",
       "[5241410 rows x 5 columns]"
      ]
     },
     "execution_count": 27,
     "metadata": {},
     "output_type": "execute_result"
    }
   ],
   "source": [
    "bgg_ratings_df"
   ]
  },
  {
   "cell_type": "code",
   "execution_count": 39,
   "metadata": {},
   "outputs": [],
   "source": [
    "usernames = bgg_ratings_df['username'].unique()\n",
    "users_df = pd.DataFrame(usernames, columns=['username'])\n",
    "users_df['userId'] = range(1, len(users_df)+1)"
   ]
  },
  {
   "cell_type": "code",
   "execution_count": 55,
   "metadata": {},
   "outputs": [
    {
     "name": "stderr",
     "output_type": "stream",
     "text": [
      "C:\\Users\\JJD732~1.506\\AppData\\Local\\Temp/ipykernel_16064/557544774.py:1: SettingWithCopyWarning: \n",
      "A value is trying to be set on a copy of a slice from a DataFrame.\n",
      "Try using .loc[row_indexer,col_indexer] = value instead\n",
      "\n",
      "See the caveats in the documentation: https://pandas.pydata.org/pandas-docs/stable/user_guide/indexing.html#returning-a-view-versus-a-copy\n",
      "  bgg_ratings_df['userId'] = bgg_ratings_df['username'].map(users_df.set_index('username')['userId'])\n"
     ]
    }
   ],
   "source": [
    "bgg_ratings_df['userId'] = bgg_ratings_df['username'].map(users_df.set_index('username')['userId'])"
   ]
  },
  {
   "cell_type": "code",
   "execution_count": 56,
   "metadata": {},
   "outputs": [
    {
     "data": {
      "text/html": [
       "<div>\n",
       "<style scoped>\n",
       "    .dataframe tbody tr th:only-of-type {\n",
       "        vertical-align: middle;\n",
       "    }\n",
       "\n",
       "    .dataframe tbody tr th {\n",
       "        vertical-align: top;\n",
       "    }\n",
       "\n",
       "    .dataframe thead th {\n",
       "        text-align: right;\n",
       "    }\n",
       "</style>\n",
       "<table border=\"1\" class=\"dataframe\">\n",
       "  <thead>\n",
       "    <tr style=\"text-align: right;\">\n",
       "      <th></th>\n",
       "      <th>username</th>\n",
       "      <th>gameId</th>\n",
       "      <th>rating</th>\n",
       "      <th>date</th>\n",
       "      <th>status</th>\n",
       "      <th>userId</th>\n",
       "    </tr>\n",
       "  </thead>\n",
       "  <tbody>\n",
       "    <tr>\n",
       "      <th>0</th>\n",
       "      <td>-Morphling-</td>\n",
       "      <td>173346</td>\n",
       "      <td>8.0</td>\n",
       "      <td>Nov 2020</td>\n",
       "      <td>Owned</td>\n",
       "      <td>1</td>\n",
       "    </tr>\n",
       "    <tr>\n",
       "      <th>1</th>\n",
       "      <td>-Morphling-</td>\n",
       "      <td>124742</td>\n",
       "      <td>9.0</td>\n",
       "      <td>Nov 2020</td>\n",
       "      <td></td>\n",
       "      <td>1</td>\n",
       "    </tr>\n",
       "    <tr>\n",
       "      <th>2</th>\n",
       "      <td>-Morphling-</td>\n",
       "      <td>205637</td>\n",
       "      <td>9.0</td>\n",
       "      <td>Nov 2020</td>\n",
       "      <td></td>\n",
       "      <td>1</td>\n",
       "    </tr>\n",
       "    <tr>\n",
       "      <th>3</th>\n",
       "      <td>-Morphling-</td>\n",
       "      <td>230802</td>\n",
       "      <td>7.0</td>\n",
       "      <td>Nov 2020</td>\n",
       "      <td></td>\n",
       "      <td>1</td>\n",
       "    </tr>\n",
       "    <tr>\n",
       "      <th>4</th>\n",
       "      <td>-Morphling-</td>\n",
       "      <td>760</td>\n",
       "      <td>7.0</td>\n",
       "      <td>Jun 2021</td>\n",
       "      <td>Owned</td>\n",
       "      <td>1</td>\n",
       "    </tr>\n",
       "  </tbody>\n",
       "</table>\n",
       "</div>"
      ],
      "text/plain": [
       "      username  gameId  rating      date status  userId\n",
       "0  -Morphling-  173346     8.0  Nov 2020  Owned       1\n",
       "1  -Morphling-  124742     9.0  Nov 2020              1\n",
       "2  -Morphling-  205637     9.0  Nov 2020              1\n",
       "3  -Morphling-  230802     7.0  Nov 2020              1\n",
       "4  -Morphling-     760     7.0  Jun 2021  Owned       1"
      ]
     },
     "execution_count": 56,
     "metadata": {},
     "output_type": "execute_result"
    }
   ],
   "source": [
    "bgg_ratings_df.head()"
   ]
  },
  {
   "cell_type": "code",
   "execution_count": 57,
   "metadata": {},
   "outputs": [],
   "source": [
    "bgg_ratings_df['timestamp'] = pd.to_datetime(bgg_ratings_df['date'], format='%b %Y')"
   ]
  },
  {
   "cell_type": "code",
   "execution_count": 59,
   "metadata": {},
   "outputs": [],
   "source": [
    "bgg_ratings_cols = ['userId', 'gameId',  'rating', 'timestamp', 'status']"
   ]
  },
  {
   "cell_type": "code",
   "execution_count": 60,
   "metadata": {},
   "outputs": [],
   "source": [
    "\n",
    "bgg_ratings_df = bgg_ratings_df[bgg_ratings_cols]"
   ]
  },
  {
   "cell_type": "code",
   "execution_count": 64,
   "metadata": {},
   "outputs": [],
   "source": [
    "bgg_ratings_df.to_csv('../data/bgg_ratings.csv.gzip', index=False, compression='gzip')"
   ]
  },
  {
   "cell_type": "code",
   "execution_count": 65,
   "metadata": {},
   "outputs": [
    {
     "data": {
      "text/html": [
       "<div>\n",
       "<style scoped>\n",
       "    .dataframe tbody tr th:only-of-type {\n",
       "        vertical-align: middle;\n",
       "    }\n",
       "\n",
       "    .dataframe tbody tr th {\n",
       "        vertical-align: top;\n",
       "    }\n",
       "\n",
       "    .dataframe thead th {\n",
       "        text-align: right;\n",
       "    }\n",
       "</style>\n",
       "<table border=\"1\" class=\"dataframe\">\n",
       "  <thead>\n",
       "    <tr style=\"text-align: right;\">\n",
       "      <th></th>\n",
       "      <th>username</th>\n",
       "      <th>gameId</th>\n",
       "      <th>comment</th>\n",
       "    </tr>\n",
       "  </thead>\n",
       "  <tbody>\n",
       "    <tr>\n",
       "      <th>0</th>\n",
       "      <td>-Morphling-</td>\n",
       "      <td>173346</td>\n",
       "      <td>b''</td>\n",
       "    </tr>\n",
       "    <tr>\n",
       "      <th>1</th>\n",
       "      <td>-Morphling-</td>\n",
       "      <td>124742</td>\n",
       "      <td>b\"I have spent way more time watching other pe...</td>\n",
       "    </tr>\n",
       "    <tr>\n",
       "      <th>2</th>\n",
       "      <td>-Morphling-</td>\n",
       "      <td>205637</td>\n",
       "      <td>b\"It's a testament to the rest of the game tha...</td>\n",
       "    </tr>\n",
       "    <tr>\n",
       "      <th>3</th>\n",
       "      <td>-Morphling-</td>\n",
       "      <td>230802</td>\n",
       "      <td>b\"It's a solid game with good components, but ...</td>\n",
       "    </tr>\n",
       "    <tr>\n",
       "      <th>4</th>\n",
       "      <td>-Morphling-</td>\n",
       "      <td>760</td>\n",
       "      <td>b''</td>\n",
       "    </tr>\n",
       "  </tbody>\n",
       "</table>\n",
       "</div>"
      ],
      "text/plain": [
       "      username  gameId                                            comment\n",
       "0  -Morphling-  173346                                                b''\n",
       "1  -Morphling-  124742  b\"I have spent way more time watching other pe...\n",
       "2  -Morphling-  205637  b\"It's a testament to the rest of the game tha...\n",
       "3  -Morphling-  230802  b\"It's a solid game with good components, but ...\n",
       "4  -Morphling-     760                                                b''"
      ]
     },
     "execution_count": 65,
     "metadata": {},
     "output_type": "execute_result"
    }
   ],
   "source": [
    "# Ratings comments\n",
    "bgg_comments_df = df[['username', 'gameId', 'comment']]\n",
    "bgg_comments_df.head()"
   ]
  },
  {
   "cell_type": "code",
   "execution_count": 66,
   "metadata": {},
   "outputs": [
    {
     "name": "stderr",
     "output_type": "stream",
     "text": [
      "C:\\Users\\JJD732~1.506\\AppData\\Local\\Temp/ipykernel_16064/3074935969.py:1: SettingWithCopyWarning: \n",
      "A value is trying to be set on a copy of a slice from a DataFrame.\n",
      "Try using .loc[row_indexer,col_indexer] = value instead\n",
      "\n",
      "See the caveats in the documentation: https://pandas.pydata.org/pandas-docs/stable/user_guide/indexing.html#returning-a-view-versus-a-copy\n",
      "  bgg_comments_df['userId'] = bgg_comments_df['username'].map(users_df.set_index('username')['userId'])\n"
     ]
    },
    {
     "data": {
      "text/html": [
       "<div>\n",
       "<style scoped>\n",
       "    .dataframe tbody tr th:only-of-type {\n",
       "        vertical-align: middle;\n",
       "    }\n",
       "\n",
       "    .dataframe tbody tr th {\n",
       "        vertical-align: top;\n",
       "    }\n",
       "\n",
       "    .dataframe thead th {\n",
       "        text-align: right;\n",
       "    }\n",
       "</style>\n",
       "<table border=\"1\" class=\"dataframe\">\n",
       "  <thead>\n",
       "    <tr style=\"text-align: right;\">\n",
       "      <th></th>\n",
       "      <th>username</th>\n",
       "      <th>gameId</th>\n",
       "      <th>comment</th>\n",
       "      <th>userId</th>\n",
       "    </tr>\n",
       "  </thead>\n",
       "  <tbody>\n",
       "    <tr>\n",
       "      <th>0</th>\n",
       "      <td>-Morphling-</td>\n",
       "      <td>173346</td>\n",
       "      <td>b''</td>\n",
       "      <td>1</td>\n",
       "    </tr>\n",
       "    <tr>\n",
       "      <th>1</th>\n",
       "      <td>-Morphling-</td>\n",
       "      <td>124742</td>\n",
       "      <td>b\"I have spent way more time watching other pe...</td>\n",
       "      <td>1</td>\n",
       "    </tr>\n",
       "    <tr>\n",
       "      <th>2</th>\n",
       "      <td>-Morphling-</td>\n",
       "      <td>205637</td>\n",
       "      <td>b\"It's a testament to the rest of the game tha...</td>\n",
       "      <td>1</td>\n",
       "    </tr>\n",
       "    <tr>\n",
       "      <th>3</th>\n",
       "      <td>-Morphling-</td>\n",
       "      <td>230802</td>\n",
       "      <td>b\"It's a solid game with good components, but ...</td>\n",
       "      <td>1</td>\n",
       "    </tr>\n",
       "    <tr>\n",
       "      <th>4</th>\n",
       "      <td>-Morphling-</td>\n",
       "      <td>760</td>\n",
       "      <td>b''</td>\n",
       "      <td>1</td>\n",
       "    </tr>\n",
       "  </tbody>\n",
       "</table>\n",
       "</div>"
      ],
      "text/plain": [
       "      username  gameId                                            comment  \\\n",
       "0  -Morphling-  173346                                                b''   \n",
       "1  -Morphling-  124742  b\"I have spent way more time watching other pe...   \n",
       "2  -Morphling-  205637  b\"It's a testament to the rest of the game tha...   \n",
       "3  -Morphling-  230802  b\"It's a solid game with good components, but ...   \n",
       "4  -Morphling-     760                                                b''   \n",
       "\n",
       "   userId  \n",
       "0       1  \n",
       "1       1  \n",
       "2       1  \n",
       "3       1  \n",
       "4       1  "
      ]
     },
     "execution_count": 66,
     "metadata": {},
     "output_type": "execute_result"
    }
   ],
   "source": [
    "bgg_comments_df['userId'] = bgg_comments_df['username'].map(users_df.set_index('username')['userId'])\n",
    "bgg_comments_df.head()"
   ]
  },
  {
   "cell_type": "code",
   "execution_count": 67,
   "metadata": {},
   "outputs": [],
   "source": [
    "bgg_comments_df[['userId', 'gameId', 'comment']].to_csv('../data/bgg_ratings_comments.csv.gzip', index=False, compression='gzip')"
   ]
  },
  {
   "cell_type": "code",
   "execution_count": null,
   "metadata": {},
   "outputs": [],
   "source": []
  }
 ],
 "metadata": {
  "kernelspec": {
   "display_name": "Python 3.9.7 ('base')",
   "language": "python",
   "name": "python3"
  },
  "language_info": {
   "codemirror_mode": {
    "name": "ipython",
    "version": 3
   },
   "file_extension": ".py",
   "mimetype": "text/x-python",
   "name": "python",
   "nbconvert_exporter": "python",
   "pygments_lexer": "ipython3",
   "version": "3.9.7"
  },
  "orig_nbformat": 4,
  "vscode": {
   "interpreter": {
    "hash": "f6fe8be65421c8f5da9249ea429559b25f9cf4e82d94362c7cc135334203694a"
   }
  }
 },
 "nbformat": 4,
 "nbformat_minor": 2
}

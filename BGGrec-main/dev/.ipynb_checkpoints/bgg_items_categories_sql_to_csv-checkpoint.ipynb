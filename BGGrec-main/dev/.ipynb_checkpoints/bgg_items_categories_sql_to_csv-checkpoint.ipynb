{
 "cells": [
  {
   "cell_type": "code",
   "execution_count": 1,
   "metadata": {},
   "outputs": [],
   "source": [
    "import pandas as pd\n",
    "import mysql.connector"
   ]
  },
  {
   "cell_type": "code",
   "execution_count": 2,
   "metadata": {},
   "outputs": [],
   "source": [
    "# Creamos la conexión con la base de datos\n",
    "conn = mysql.connector.connect(user='root', password='', host='localhost', database='bgg')"
   ]
  },
  {
   "cell_type": "markdown",
   "metadata": {},
   "source": [
    "## BGG Items Categories"
   ]
  },
  {
   "cell_type": "code",
   "execution_count": 3,
   "metadata": {},
   "outputs": [],
   "source": [
    "# Obtenemos un dataframe con todos los datos de la tabla de juegos\n",
    "\n",
    "sql_query = \"SELECT * FROM game_categories\"\n",
    "df = pd.read_sql_query(sql_query, conn)"
   ]
  },
  {
   "cell_type": "code",
   "execution_count": 4,
   "metadata": {},
   "outputs": [],
   "source": [
    "bgg_categories_df = df.groupby('gameId').agg({'name': lambda x: '|'.join(list(x))}).reset_index()"
   ]
  },
  {
   "cell_type": "code",
   "execution_count": 5,
   "metadata": {},
   "outputs": [],
   "source": [
    "bgg_categories_df.to_csv('../data/bgg_items_categories.csv', index=False)"
   ]
  },
  {
   "cell_type": "markdown",
   "metadata": {},
   "source": [
    "## BGG Items Families"
   ]
  },
  {
   "cell_type": "code",
   "execution_count": 6,
   "metadata": {},
   "outputs": [],
   "source": [
    "# Obtenemos un dataframe con todos los datos de la tabla de juegos\n",
    "\n",
    "sql_query = \"SELECT * FROM game_families\"\n",
    "df = pd.read_sql_query(sql_query, conn)"
   ]
  },
  {
   "cell_type": "code",
   "execution_count": 7,
   "metadata": {},
   "outputs": [
    {
     "data": {
      "text/html": [
       "<div>\n",
       "<style scoped>\n",
       "    .dataframe tbody tr th:only-of-type {\n",
       "        vertical-align: middle;\n",
       "    }\n",
       "\n",
       "    .dataframe tbody tr th {\n",
       "        vertical-align: top;\n",
       "    }\n",
       "\n",
       "    .dataframe thead th {\n",
       "        text-align: right;\n",
       "    }\n",
       "</style>\n",
       "<table border=\"1\" class=\"dataframe\">\n",
       "  <thead>\n",
       "    <tr style=\"text-align: right;\">\n",
       "      <th></th>\n",
       "      <th>id</th>\n",
       "      <th>name</th>\n",
       "      <th>gameId</th>\n",
       "    </tr>\n",
       "  </thead>\n",
       "  <tbody>\n",
       "    <tr>\n",
       "      <th>0</th>\n",
       "      <td>10643</td>\n",
       "      <td>Country: Germany</td>\n",
       "      <td>1</td>\n",
       "    </tr>\n",
       "    <tr>\n",
       "      <th>1</th>\n",
       "      <td>34116</td>\n",
       "      <td>Political: Elections</td>\n",
       "      <td>1</td>\n",
       "    </tr>\n",
       "    <tr>\n",
       "      <th>2</th>\n",
       "      <td>91</td>\n",
       "      <td>Series: Classic Line (Valley Games)</td>\n",
       "      <td>1</td>\n",
       "    </tr>\n",
       "    <tr>\n",
       "      <th>3</th>\n",
       "      <td>7005</td>\n",
       "      <td>Creatures: Dragons</td>\n",
       "      <td>10</td>\n",
       "    </tr>\n",
       "    <tr>\n",
       "      <th>4</th>\n",
       "      <td>19299</td>\n",
       "      <td>Creatures: Fairies / Elves / Pixies</td>\n",
       "      <td>10</td>\n",
       "    </tr>\n",
       "    <tr>\n",
       "      <th>...</th>\n",
       "      <td>...</td>\n",
       "      <td>...</td>\n",
       "      <td>...</td>\n",
       "    </tr>\n",
       "    <tr>\n",
       "      <th>197266</th>\n",
       "      <td>5597</td>\n",
       "      <td>Brands: Disney</td>\n",
       "      <td>9999</td>\n",
       "    </tr>\n",
       "    <tr>\n",
       "      <th>197267</th>\n",
       "      <td>63080</td>\n",
       "      <td>Characters: Hercules</td>\n",
       "      <td>9999</td>\n",
       "    </tr>\n",
       "    <tr>\n",
       "      <th>197268</th>\n",
       "      <td>5607</td>\n",
       "      <td>Components: 3-Dimensional (3D)</td>\n",
       "      <td>9999</td>\n",
       "    </tr>\n",
       "    <tr>\n",
       "      <th>197269</th>\n",
       "      <td>62772</td>\n",
       "      <td>Mythology: Greek</td>\n",
       "      <td>9999</td>\n",
       "    </tr>\n",
       "    <tr>\n",
       "      <th>197270</th>\n",
       "      <td>8374</td>\n",
       "      <td>Crowdfunding: Kickstarter</td>\n",
       "      <td>99994</td>\n",
       "    </tr>\n",
       "  </tbody>\n",
       "</table>\n",
       "<p>197271 rows × 3 columns</p>\n",
       "</div>"
      ],
      "text/plain": [
       "           id                                 name  gameId\n",
       "0       10643                     Country: Germany       1\n",
       "1       34116                 Political: Elections       1\n",
       "2          91  Series: Classic Line (Valley Games)       1\n",
       "3        7005                   Creatures: Dragons      10\n",
       "4       19299  Creatures: Fairies / Elves / Pixies      10\n",
       "...       ...                                  ...     ...\n",
       "197266   5597                       Brands: Disney    9999\n",
       "197267  63080                 Characters: Hercules    9999\n",
       "197268   5607       Components: 3-Dimensional (3D)    9999\n",
       "197269  62772                     Mythology: Greek    9999\n",
       "197270   8374            Crowdfunding: Kickstarter   99994\n",
       "\n",
       "[197271 rows x 3 columns]"
      ]
     },
     "execution_count": 7,
     "metadata": {},
     "output_type": "execute_result"
    }
   ],
   "source": [
    "df"
   ]
  },
  {
   "cell_type": "code",
   "execution_count": 8,
   "metadata": {},
   "outputs": [],
   "source": [
    "bgg_families_df = df.groupby('gameId').agg({'name': lambda x: '|'.join(list(x))}).reset_index()"
   ]
  },
  {
   "cell_type": "code",
   "execution_count": 9,
   "metadata": {},
   "outputs": [
    {
     "data": {
      "text/html": [
       "<div>\n",
       "<style scoped>\n",
       "    .dataframe tbody tr th:only-of-type {\n",
       "        vertical-align: middle;\n",
       "    }\n",
       "\n",
       "    .dataframe tbody tr th {\n",
       "        vertical-align: top;\n",
       "    }\n",
       "\n",
       "    .dataframe thead th {\n",
       "        text-align: right;\n",
       "    }\n",
       "</style>\n",
       "<table border=\"1\" class=\"dataframe\">\n",
       "  <thead>\n",
       "    <tr style=\"text-align: right;\">\n",
       "      <th></th>\n",
       "      <th>gameId</th>\n",
       "      <th>name</th>\n",
       "    </tr>\n",
       "  </thead>\n",
       "  <tbody>\n",
       "    <tr>\n",
       "      <th>0</th>\n",
       "      <td>1</td>\n",
       "      <td>Economic|Negotiation|Political</td>\n",
       "    </tr>\n",
       "    <tr>\n",
       "      <th>1</th>\n",
       "      <td>2</td>\n",
       "      <td>Card Game|Fantasy</td>\n",
       "    </tr>\n",
       "    <tr>\n",
       "      <th>2</th>\n",
       "      <td>3</td>\n",
       "      <td>Abstract Strategy|Medieval</td>\n",
       "    </tr>\n",
       "    <tr>\n",
       "      <th>3</th>\n",
       "      <td>4</td>\n",
       "      <td>Ancient</td>\n",
       "    </tr>\n",
       "    <tr>\n",
       "      <th>4</th>\n",
       "      <td>5</td>\n",
       "      <td>Economic|Territory Building</td>\n",
       "    </tr>\n",
       "    <tr>\n",
       "      <th>...</th>\n",
       "      <td>...</td>\n",
       "      <td>...</td>\n",
       "    </tr>\n",
       "    <tr>\n",
       "      <th>132436</th>\n",
       "      <td>358151</td>\n",
       "      <td>Animals|Card Game|Educational</td>\n",
       "    </tr>\n",
       "    <tr>\n",
       "      <th>132437</th>\n",
       "      <td>358152</td>\n",
       "      <td>Expansion for Base-game|Card Game|Collectible ...</td>\n",
       "    </tr>\n",
       "    <tr>\n",
       "      <th>132438</th>\n",
       "      <td>358153</td>\n",
       "      <td>Card Game|Children's Game|Fantasy</td>\n",
       "    </tr>\n",
       "    <tr>\n",
       "      <th>132439</th>\n",
       "      <td>358156</td>\n",
       "      <td>Children's Game|Economic</td>\n",
       "    </tr>\n",
       "    <tr>\n",
       "      <th>132440</th>\n",
       "      <td>358159</td>\n",
       "      <td>Abstract Strategy|Expansion for Base-game|Puzzle</td>\n",
       "    </tr>\n",
       "  </tbody>\n",
       "</table>\n",
       "<p>132441 rows × 2 columns</p>\n",
       "</div>"
      ],
      "text/plain": [
       "        gameId                                               name\n",
       "0            1                     Economic|Negotiation|Political\n",
       "1            2                                  Card Game|Fantasy\n",
       "2            3                         Abstract Strategy|Medieval\n",
       "3            4                                            Ancient\n",
       "4            5                        Economic|Territory Building\n",
       "...        ...                                                ...\n",
       "132436  358151                      Animals|Card Game|Educational\n",
       "132437  358152  Expansion for Base-game|Card Game|Collectible ...\n",
       "132438  358153                  Card Game|Children's Game|Fantasy\n",
       "132439  358156                           Children's Game|Economic\n",
       "132440  358159   Abstract Strategy|Expansion for Base-game|Puzzle\n",
       "\n",
       "[132441 rows x 2 columns]"
      ]
     },
     "execution_count": 9,
     "metadata": {},
     "output_type": "execute_result"
    }
   ],
   "source": [
    "bgg_categories_df"
   ]
  },
  {
   "cell_type": "code",
   "execution_count": 10,
   "metadata": {},
   "outputs": [],
   "source": [
    "bgg_families_df.to_csv('../data/bgg_items_families.csv', index=False)"
   ]
  },
  {
   "cell_type": "markdown",
   "metadata": {},
   "source": [
    "## BGG Items Mechanisms"
   ]
  },
  {
   "cell_type": "code",
   "execution_count": 11,
   "metadata": {},
   "outputs": [],
   "source": [
    "# Obtenemos un dataframe con todos los datos de la tabla de juegos\n",
    "\n",
    "sql_query = \"SELECT * FROM game_mechanisms\"\n",
    "df = pd.read_sql_query(sql_query, conn)"
   ]
  },
  {
   "cell_type": "code",
   "execution_count": 12,
   "metadata": {},
   "outputs": [],
   "source": [
    "bgg_mechanisms_df = df.groupby('gameId').agg({'name': lambda x: '|'.join(list(x))}).reset_index()"
   ]
  },
  {
   "cell_type": "code",
   "execution_count": 13,
   "metadata": {},
   "outputs": [
    {
     "data": {
      "text/html": [
       "<div>\n",
       "<style scoped>\n",
       "    .dataframe tbody tr th:only-of-type {\n",
       "        vertical-align: middle;\n",
       "    }\n",
       "\n",
       "    .dataframe tbody tr th {\n",
       "        vertical-align: top;\n",
       "    }\n",
       "\n",
       "    .dataframe thead th {\n",
       "        text-align: right;\n",
       "    }\n",
       "</style>\n",
       "<table border=\"1\" class=\"dataframe\">\n",
       "  <thead>\n",
       "    <tr style=\"text-align: right;\">\n",
       "      <th></th>\n",
       "      <th>gameId</th>\n",
       "      <th>name</th>\n",
       "    </tr>\n",
       "  </thead>\n",
       "  <tbody>\n",
       "    <tr>\n",
       "      <th>0</th>\n",
       "      <td>1</td>\n",
       "      <td>Alliances|Area Majority / Influence|Auction/Bi...</td>\n",
       "    </tr>\n",
       "    <tr>\n",
       "      <th>1</th>\n",
       "      <td>2</td>\n",
       "      <td>Trick-taking</td>\n",
       "    </tr>\n",
       "    <tr>\n",
       "      <th>2</th>\n",
       "      <td>3</td>\n",
       "      <td>Area Majority / Influence|Hand Management|Hexa...</td>\n",
       "    </tr>\n",
       "    <tr>\n",
       "      <th>3</th>\n",
       "      <td>4</td>\n",
       "      <td>Action Points|Area Majority / Influence|Auctio...</td>\n",
       "    </tr>\n",
       "    <tr>\n",
       "      <th>4</th>\n",
       "      <td>5</td>\n",
       "      <td>Hand Management|Investment|Market|Square Grid|...</td>\n",
       "    </tr>\n",
       "    <tr>\n",
       "      <th>...</th>\n",
       "      <td>...</td>\n",
       "      <td>...</td>\n",
       "    </tr>\n",
       "    <tr>\n",
       "      <th>115633</th>\n",
       "      <td>358151</td>\n",
       "      <td>Set Collection|Trick-taking</td>\n",
       "    </tr>\n",
       "    <tr>\n",
       "      <th>115634</th>\n",
       "      <td>358152</td>\n",
       "      <td>Area Majority / Influence|Hand Management|Modu...</td>\n",
       "    </tr>\n",
       "    <tr>\n",
       "      <th>115635</th>\n",
       "      <td>358153</td>\n",
       "      <td>Hand Management|Take That</td>\n",
       "    </tr>\n",
       "    <tr>\n",
       "      <th>115636</th>\n",
       "      <td>358156</td>\n",
       "      <td>Dice Rolling|Roll / Spin and Move|Track Movement</td>\n",
       "    </tr>\n",
       "    <tr>\n",
       "      <th>115637</th>\n",
       "      <td>358159</td>\n",
       "      <td>Contracts|Hand Management|Pattern Building|Set...</td>\n",
       "    </tr>\n",
       "  </tbody>\n",
       "</table>\n",
       "<p>115638 rows × 2 columns</p>\n",
       "</div>"
      ],
      "text/plain": [
       "        gameId                                               name\n",
       "0            1  Alliances|Area Majority / Influence|Auction/Bi...\n",
       "1            2                                       Trick-taking\n",
       "2            3  Area Majority / Influence|Hand Management|Hexa...\n",
       "3            4  Action Points|Area Majority / Influence|Auctio...\n",
       "4            5  Hand Management|Investment|Market|Square Grid|...\n",
       "...        ...                                                ...\n",
       "115633  358151                        Set Collection|Trick-taking\n",
       "115634  358152  Area Majority / Influence|Hand Management|Modu...\n",
       "115635  358153                          Hand Management|Take That\n",
       "115636  358156   Dice Rolling|Roll / Spin and Move|Track Movement\n",
       "115637  358159  Contracts|Hand Management|Pattern Building|Set...\n",
       "\n",
       "[115638 rows x 2 columns]"
      ]
     },
     "execution_count": 13,
     "metadata": {},
     "output_type": "execute_result"
    }
   ],
   "source": [
    "bgg_mechanisms_df"
   ]
  },
  {
   "cell_type": "code",
   "execution_count": 14,
   "metadata": {},
   "outputs": [],
   "source": [
    "bgg_mechanisms_df.to_csv('../data/bgg_items_mechanisms.csv', index=False)"
   ]
  },
  {
   "cell_type": "markdown",
   "metadata": {},
   "source": [
    "## BGG Items Designers"
   ]
  },
  {
   "cell_type": "code",
   "execution_count": 15,
   "metadata": {},
   "outputs": [],
   "source": [
    "# Obtenemos un dataframe con todos los datos de la tabla de juegos\n",
    "\n",
    "sql_query = \"SELECT * FROM game_designers\"\n",
    "df = pd.read_sql_query(sql_query, conn)"
   ]
  },
  {
   "cell_type": "code",
   "execution_count": 16,
   "metadata": {},
   "outputs": [],
   "source": [
    "bgg_designers_df = df.groupby('gameid').agg({'name': lambda x: '|'.join(list(x))}).reset_index()"
   ]
  },
  {
   "cell_type": "code",
   "execution_count": 17,
   "metadata": {},
   "outputs": [
    {
     "data": {
      "text/html": [
       "<div>\n",
       "<style scoped>\n",
       "    .dataframe tbody tr th:only-of-type {\n",
       "        vertical-align: middle;\n",
       "    }\n",
       "\n",
       "    .dataframe tbody tr th {\n",
       "        vertical-align: top;\n",
       "    }\n",
       "\n",
       "    .dataframe thead th {\n",
       "        text-align: right;\n",
       "    }\n",
       "</style>\n",
       "<table border=\"1\" class=\"dataframe\">\n",
       "  <thead>\n",
       "    <tr style=\"text-align: right;\">\n",
       "      <th></th>\n",
       "      <th>gameid</th>\n",
       "      <th>name</th>\n",
       "    </tr>\n",
       "  </thead>\n",
       "  <tbody>\n",
       "    <tr>\n",
       "      <th>0</th>\n",
       "      <td>1</td>\n",
       "      <td>Karl-Heinz Schmiel</td>\n",
       "    </tr>\n",
       "    <tr>\n",
       "      <th>1</th>\n",
       "      <td>2</td>\n",
       "      <td>G. W. \"Jerry\" D'Arcey</td>\n",
       "    </tr>\n",
       "    <tr>\n",
       "      <th>2</th>\n",
       "      <td>3</td>\n",
       "      <td>Reiner Knizia</td>\n",
       "    </tr>\n",
       "    <tr>\n",
       "      <th>3</th>\n",
       "      <td>4</td>\n",
       "      <td>Christian Beierer</td>\n",
       "    </tr>\n",
       "    <tr>\n",
       "      <th>4</th>\n",
       "      <td>5</td>\n",
       "      <td>Sid Sackson</td>\n",
       "    </tr>\n",
       "    <tr>\n",
       "      <th>...</th>\n",
       "      <td>...</td>\n",
       "      <td>...</td>\n",
       "    </tr>\n",
       "    <tr>\n",
       "      <th>111762</th>\n",
       "      <td>358139</td>\n",
       "      <td>Mark Kolb</td>\n",
       "    </tr>\n",
       "    <tr>\n",
       "      <th>111763</th>\n",
       "      <td>358145</td>\n",
       "      <td>Antoine Bauza</td>\n",
       "    </tr>\n",
       "    <tr>\n",
       "      <th>111764</th>\n",
       "      <td>358151</td>\n",
       "      <td>Emiliano Gunckel</td>\n",
       "    </tr>\n",
       "    <tr>\n",
       "      <th>111765</th>\n",
       "      <td>358152</td>\n",
       "      <td>Tom Braunlich|Jerry Darcy|Roland L. Tesh</td>\n",
       "    </tr>\n",
       "    <tr>\n",
       "      <th>111766</th>\n",
       "      <td>358159</td>\n",
       "      <td>Etienne Dubois-Roy|Pascale Brassard</td>\n",
       "    </tr>\n",
       "  </tbody>\n",
       "</table>\n",
       "<p>111767 rows × 2 columns</p>\n",
       "</div>"
      ],
      "text/plain": [
       "        gameid                                      name\n",
       "0            1                        Karl-Heinz Schmiel\n",
       "1            2                     G. W. \"Jerry\" D'Arcey\n",
       "2            3                             Reiner Knizia\n",
       "3            4                         Christian Beierer\n",
       "4            5                               Sid Sackson\n",
       "...        ...                                       ...\n",
       "111762  358139                                 Mark Kolb\n",
       "111763  358145                             Antoine Bauza\n",
       "111764  358151                          Emiliano Gunckel\n",
       "111765  358152  Tom Braunlich|Jerry Darcy|Roland L. Tesh\n",
       "111766  358159       Etienne Dubois-Roy|Pascale Brassard\n",
       "\n",
       "[111767 rows x 2 columns]"
      ]
     },
     "execution_count": 17,
     "metadata": {},
     "output_type": "execute_result"
    }
   ],
   "source": [
    "bgg_designers_df"
   ]
  },
  {
   "cell_type": "code",
   "execution_count": 18,
   "metadata": {},
   "outputs": [],
   "source": [
    "bgg_designers_df.to_csv('../data/bgg_items_designers.csv', index=False)"
   ]
  },
  {
   "cell_type": "markdown",
   "metadata": {},
   "source": [
    "## BGG Items Types"
   ]
  },
  {
   "cell_type": "code",
   "execution_count": 19,
   "metadata": {},
   "outputs": [],
   "source": [
    "# Obtenemos un dataframe con todos los datos de la tabla de juegos\n",
    "\n",
    "sql_query = \"SELECT * FROM game_types\"\n",
    "df = pd.read_sql_query(sql_query, conn)"
   ]
  },
  {
   "cell_type": "code",
   "execution_count": 20,
   "metadata": {},
   "outputs": [],
   "source": [
    "bgg_types_df = df.groupby('gameId').agg({'name': lambda x: '|'.join(list(x))}).reset_index()"
   ]
  },
  {
   "cell_type": "code",
   "execution_count": 21,
   "metadata": {},
   "outputs": [],
   "source": [
    "bgg_types_df.to_csv('../data/bgg_items_types.csv', index=False)"
   ]
  },
  {
   "cell_type": "code",
   "execution_count": null,
   "metadata": {},
   "outputs": [],
   "source": []
  }
 ],
 "metadata": {
  "kernelspec": {
   "display_name": "Python 3 (ipykernel)",
   "language": "python",
   "name": "python3"
  },
  "language_info": {
   "codemirror_mode": {
    "name": "ipython",
    "version": 3
   },
   "file_extension": ".py",
   "mimetype": "text/x-python",
   "name": "python",
   "nbconvert_exporter": "python",
   "pygments_lexer": "ipython3",
   "version": "3.8.10"
  },
  "vscode": {
   "interpreter": {
    "hash": "f6fe8be65421c8f5da9249ea429559b25f9cf4e82d94362c7cc135334203694a"
   }
  }
 },
 "nbformat": 4,
 "nbformat_minor": 2
}
